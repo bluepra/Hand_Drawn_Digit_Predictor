{
 "cells": [
  {
   "cell_type": "code",
   "execution_count": 36,
   "metadata": {},
   "outputs": [],
   "source": [
    "import torch\n",
    "import numpy as np\n",
    "import matplotlib.pyplot as plt\n",
    "import math\n",
    "\n",
    "from torch.utils.data import Dataset\n",
    "from torchvision import datasets\n",
    "from torchvision.transforms import ToTensor\n",
    "from torch.utils.data import DataLoader\n",
    "from torchinfo import summary\n",
    "import torch.nn.functional as F"
   ]
  },
  {
   "cell_type": "code",
   "execution_count": 37,
   "metadata": {},
   "outputs": [],
   "source": [
    "training_data = datasets.MNIST(\n",
    "    root=\"data\",\n",
    "    train=True,\n",
    "    download=True,\n",
    "    transform=ToTensor()\n",
    ")\n",
    "\n",
    "test_data = datasets.MNIST(\n",
    "    root=\"data\",\n",
    "    train=False,\n",
    "    download=True,\n",
    "    transform=ToTensor()\n",
    ")\n",
    "\n",
    "labels_map = {\n",
    "    0: \"Zero\",\n",
    "    1: \"One\",\n",
    "    2: \"Two\",\n",
    "    3: \"Three\",\n",
    "    4: \"Four\",\n",
    "    5: \"Five\",\n",
    "    6: \"Six\",\n",
    "    7: \"Seven\",\n",
    "    8: \"Eight\",\n",
    "    9: \"Nine\",\n",
    "}\n",
    "batch_size = 16\n",
    "train_dataloader = DataLoader(training_data, batch_size=batch_size, shuffle=True)\n",
    "test_dataloader = DataLoader(test_data, batch_size=batch_size, shuffle=False)"
   ]
  },
  {
   "cell_type": "code",
   "execution_count": 38,
   "metadata": {},
   "outputs": [],
   "source": [
    "class Net(torch.nn.Module):\n",
    "    def __init__(self):\n",
    "        super().__init__()\n",
    "        self.conv1 = torch.nn.Conv2d(1, 8, 3)\n",
    "        self.pool = torch.nn.MaxPool2d(2, 2)\n",
    "        self.conv2 = torch.nn.Conv2d(8, 4, 3)\n",
    "        \n",
    "        self.fc1 = torch.nn.Linear(4 * 5 * 5, 32)\n",
    "        self.fc2 = torch.nn.Linear(32, 10)\n",
    "        self.fc3 = torch.nn.Linear(10, 1)\n",
    "\n",
    "    def forward(self, x):\n",
    "        x = self.pool(F.relu(self.conv1(x)))\n",
    "        x = self.pool(F.relu(self.conv2(x)))\n",
    "        \n",
    "        x = torch.flatten(x, 1) # flatten all dimensions except batch\n",
    "        x = F.relu(self.fc1(x))\n",
    "        x = F.relu(self.fc2(x))\n",
    "        x = self.fc3(x)\n",
    "        return x\n",
    "\n",
    "\n",
    "net = Net()"
   ]
  },
  {
   "cell_type": "code",
   "execution_count": 39,
   "metadata": {},
   "outputs": [],
   "source": [
    "loss_fn = torch.nn.MSELoss()\n",
    "optimizer = torch.optim.SGD(net.parameters(), .001)"
   ]
  },
  {
   "cell_type": "code",
   "execution_count": 40,
   "metadata": {},
   "outputs": [
    {
     "name": "stderr",
     "output_type": "stream",
     "text": [
      "<ipython-input-40-2106b7a908c6>:10: UserWarning: To copy construct from a tensor, it is recommended to use sourceTensor.clone().detach() or sourceTensor.clone().detach().requires_grad_(True), rather than torch.tensor(sourceTensor).\n",
      "  y = torch.tensor(y, dtype=torch.float32)\n"
     ]
    },
    {
     "name": "stdout",
     "output_type": "stream",
     "text": [
      "Average loss for batch #1000: 2.9319303035736084\n",
      "Average loss for batch #2000: 2.2157156467437744\n",
      "Average loss for batch #3000: 2.6370022296905518\n",
      "Epoch #1, average sample loss = 4.226739552164077\n",
      "Average loss for batch #1000: 0.8665105104446411\n",
      "Average loss for batch #2000: 0.8296507596969604\n",
      "Average loss for batch #3000: 1.0085437297821045\n",
      "Epoch #2, average sample loss = 1.368878791117668\n",
      "Average loss for batch #1000: 0.5968368053436279\n",
      "Average loss for batch #2000: 0.40047264099121094\n",
      "Average loss for batch #3000: 0.6036129593849182\n",
      "Epoch #3, average sample loss = 0.9812116929481427\n",
      "Average loss for batch #1000: 1.1169955730438232\n",
      "Average loss for batch #2000: 0.7400118112564087\n",
      "Average loss for batch #3000: 0.9786993265151978\n",
      "Epoch #4, average sample loss = 0.8211025199164946\n",
      "Average loss for batch #1000: 0.957200288772583\n",
      "Average loss for batch #2000: 0.4325529634952545\n",
      "Average loss for batch #3000: 0.9169826507568359\n",
      "Epoch #5, average sample loss = 0.7337489267160495\n",
      "Average loss for batch #1000: 0.8998779654502869\n",
      "Average loss for batch #2000: 0.3455762565135956\n",
      "Average loss for batch #3000: 0.45089176297187805\n",
      "Epoch #6, average sample loss = 0.6743268541673819\n",
      "Average loss for batch #1000: 0.3808801472187042\n",
      "Average loss for batch #2000: 0.8319522142410278\n",
      "Average loss for batch #3000: 2.1052956581115723\n",
      "Epoch #7, average sample loss = 0.6255345072130363\n",
      "Average loss for batch #1000: 0.3851873278617859\n",
      "Average loss for batch #2000: 0.1828460991382599\n",
      "Average loss for batch #3000: 0.3474460542201996\n",
      "Epoch #8, average sample loss = 0.5911474685604373\n",
      "Average loss for batch #1000: 0.1441996544599533\n",
      "Average loss for batch #2000: 0.6086597442626953\n",
      "Average loss for batch #3000: 0.7154269218444824\n",
      "Epoch #9, average sample loss = 0.5575343621095021\n",
      "Average loss for batch #1000: 0.666770339012146\n",
      "Average loss for batch #2000: 0.37574729323387146\n",
      "Average loss for batch #3000: 1.5394541025161743\n",
      "Epoch #10, average sample loss = 0.5309053228750825\n"
     ]
    },
    {
     "data": {
      "image/png": "[encoded data removed]",
      "text/plain": [
       "<Figure size 432x288 with 1 Axes>"
      ]
     },
     "metadata": {
      "needs_background": "light"
     },
     "output_type": "display_data"
    }
   ],
   "source": [
    "epochs = 10\n",
    "num_samples = len(train_dataloader.dataset)\n",
    "losses = []\n",
    "\n",
    "for epoch in range(epochs):\n",
    "    total_loss = 0\n",
    "    for batch, (X,y) in enumerate(train_dataloader):\n",
    "        pred = net(X)\n",
    "        y = torch.reshape(y, (-1,1))\n",
    "        y = torch.tensor(y, dtype=torch.float32)\n",
    "        loss = loss_fn(pred, y)\n",
    "        total_loss += loss.item() * len(X)\n",
    "        \n",
    "        optimizer.zero_grad()\n",
    "        loss.backward()\n",
    "        optimizer.step()\n",
    "        \n",
    "        if (batch + 1) % 1000 == 0:\n",
    "            print(f'Average loss for batch #{batch+1}: {loss}')\n",
    "            \n",
    "    print(f'Epoch #{epoch +1}, average sample loss = {total_loss/num_samples}')\n",
    "    losses.append(total_loss/num_samples)\n",
    "\n",
    "plt.plot(total_loss)\n",
    "plt.show()"
   ]
  },
  {
   "cell_type": "code",
   "execution_count": 49,
   "metadata": {},
   "outputs": [],
   "source": [
    "def test_model(index):\n",
    "    image, label = training_data.__getitem__(index)\n",
    "    image = torch.unsqueeze(image, 0)\n",
    "    # print(image.shape)\n",
    "    print(f'True label: {label}')\n",
    "    plt.imshow(image[0][0], cmap = 'gray')\n",
    "    \n",
    "    pred = net(image) \n",
    "    print(f'Pred label: {round(pred.item())}')\n",
    "    plt.show()"
   ]
  },
  {
   "cell_type": "code",
   "execution_count": 55,
   "metadata": {},
   "outputs": [
    {
     "name": "stdout",
     "output_type": "stream",
     "text": [
      "True label: 3\n",
      "Pred label: 3\n"
     ]
    },
    {
     "data": {
      "image/png": "[encoded data removed]",
      "text/plain": [
       "<Figure size 432x288 with 1 Axes>"
      ]
     },
     "metadata": {
      "needs_background": "light"
     },
     "output_type": "display_data"
    }
   ],
   "source": [
    "test_model(670)"
   ]
  }
 ],
 "metadata": {
  "kernelspec": {
   "display_name": "Python 3",
   "language": "python",
   "name": "python3"
  },
  "language_info": {
   "codemirror_mode": {
    "name": "ipython",
    "version": 3
   },
   "file_extension": ".py",
   "mimetype": "text/x-python",
   "name": "python",
   "nbconvert_exporter": "python",
   "pygments_lexer": "ipython3",
   "version": "3.8.7"
  }
 },
 "nbformat": 4,
 "nbformat_minor": 4
}
